{
 "cells": [
  {
   "cell_type": "code",
   "execution_count": 164,
   "metadata": {},
   "outputs": [],
   "source": [
    "import numpy as np\n",
    "import pandas as pd"
   ]
  },
  {
   "cell_type": "code",
   "execution_count": 165,
   "metadata": {},
   "outputs": [],
   "source": [
    "df_train = pd.read_csv(\"./input/pose_angle_test.csv\")"
   ]
  },
  {
   "cell_type": "code",
   "execution_count": 166,
   "metadata": {},
   "outputs": [
    {
     "output_type": "execute_result",
     "data": {
      "text/plain": "         x_0        y_0   score_0        x_1        y_1   score_1        x_2  \\\n0  179.76530  60.258244  0.939276  180.39920  74.525390  0.850736  169.99663   \n1  179.77000  60.267480  0.938724  180.40907  74.522255  0.851064  170.00713   \n2  179.78280  60.261524  0.928379  180.40228  74.516790  0.843911  169.99840   \n3  180.40729  60.253990  0.913265  180.39053  73.890390  0.852116  169.37404   \n4  181.04353  60.265160  0.893009  181.68724  73.891525  0.812719  170.66028   \n\n         y_2   score_2        x_3  ...       x_22       y_22  score_22  \\\n0  74.529175  0.809395  166.10310  ...  175.84912  169.35298  0.531282   \n1  74.533250  0.823045  166.11751  ...  175.20096  169.38358  0.516036   \n2  74.530780  0.818879  165.47404  ...  175.85600  169.38922  0.544642   \n3  73.899300  0.814654  164.81367  ...  176.49518  169.38768  0.504813   \n4  73.247660  0.785594  166.76718  ...  174.53969  170.00818  0.542894   \n\n        x_23       y_23  score_23       x_24       y_24  score_24  angle  \n0  173.87663  168.70683  0.524592  179.09890  168.04233  0.621106    0.0  \n1  172.61047  168.72954  0.525205  179.10825  168.68027  0.694225    0.0  \n2  173.24898  169.33330  0.566953  179.11185  168.67523  0.715459    0.0  \n3  173.25194  169.33595  0.529983  179.11575  168.67534  0.694016    0.0  \n4  171.96147  169.33696  0.546907  179.12080  168.69398  0.684557    0.0  \n\n[5 rows x 76 columns]",
      "text/html": "<div>\n<style scoped>\n    .dataframe tbody tr th:only-of-type {\n        vertical-align: middle;\n    }\n\n    .dataframe tbody tr th {\n        vertical-align: top;\n    }\n\n    .dataframe thead th {\n        text-align: right;\n    }\n</style>\n<table border=\"1\" class=\"dataframe\">\n  <thead>\n    <tr style=\"text-align: right;\">\n      <th></th>\n      <th>x_0</th>\n      <th>y_0</th>\n      <th>score_0</th>\n      <th>x_1</th>\n      <th>y_1</th>\n      <th>score_1</th>\n      <th>x_2</th>\n      <th>y_2</th>\n      <th>score_2</th>\n      <th>x_3</th>\n      <th>...</th>\n      <th>x_22</th>\n      <th>y_22</th>\n      <th>score_22</th>\n      <th>x_23</th>\n      <th>y_23</th>\n      <th>score_23</th>\n      <th>x_24</th>\n      <th>y_24</th>\n      <th>score_24</th>\n      <th>angle</th>\n    </tr>\n  </thead>\n  <tbody>\n    <tr>\n      <th>0</th>\n      <td>179.76530</td>\n      <td>60.258244</td>\n      <td>0.939276</td>\n      <td>180.39920</td>\n      <td>74.525390</td>\n      <td>0.850736</td>\n      <td>169.99663</td>\n      <td>74.529175</td>\n      <td>0.809395</td>\n      <td>166.10310</td>\n      <td>...</td>\n      <td>175.84912</td>\n      <td>169.35298</td>\n      <td>0.531282</td>\n      <td>173.87663</td>\n      <td>168.70683</td>\n      <td>0.524592</td>\n      <td>179.09890</td>\n      <td>168.04233</td>\n      <td>0.621106</td>\n      <td>0.0</td>\n    </tr>\n    <tr>\n      <th>1</th>\n      <td>179.77000</td>\n      <td>60.267480</td>\n      <td>0.938724</td>\n      <td>180.40907</td>\n      <td>74.522255</td>\n      <td>0.851064</td>\n      <td>170.00713</td>\n      <td>74.533250</td>\n      <td>0.823045</td>\n      <td>166.11751</td>\n      <td>...</td>\n      <td>175.20096</td>\n      <td>169.38358</td>\n      <td>0.516036</td>\n      <td>172.61047</td>\n      <td>168.72954</td>\n      <td>0.525205</td>\n      <td>179.10825</td>\n      <td>168.68027</td>\n      <td>0.694225</td>\n      <td>0.0</td>\n    </tr>\n    <tr>\n      <th>2</th>\n      <td>179.78280</td>\n      <td>60.261524</td>\n      <td>0.928379</td>\n      <td>180.40228</td>\n      <td>74.516790</td>\n      <td>0.843911</td>\n      <td>169.99840</td>\n      <td>74.530780</td>\n      <td>0.818879</td>\n      <td>165.47404</td>\n      <td>...</td>\n      <td>175.85600</td>\n      <td>169.38922</td>\n      <td>0.544642</td>\n      <td>173.24898</td>\n      <td>169.33330</td>\n      <td>0.566953</td>\n      <td>179.11185</td>\n      <td>168.67523</td>\n      <td>0.715459</td>\n      <td>0.0</td>\n    </tr>\n    <tr>\n      <th>3</th>\n      <td>180.40729</td>\n      <td>60.253990</td>\n      <td>0.913265</td>\n      <td>180.39053</td>\n      <td>73.890390</td>\n      <td>0.852116</td>\n      <td>169.37404</td>\n      <td>73.899300</td>\n      <td>0.814654</td>\n      <td>164.81367</td>\n      <td>...</td>\n      <td>176.49518</td>\n      <td>169.38768</td>\n      <td>0.504813</td>\n      <td>173.25194</td>\n      <td>169.33595</td>\n      <td>0.529983</td>\n      <td>179.11575</td>\n      <td>168.67534</td>\n      <td>0.694016</td>\n      <td>0.0</td>\n    </tr>\n    <tr>\n      <th>4</th>\n      <td>181.04353</td>\n      <td>60.265160</td>\n      <td>0.893009</td>\n      <td>181.68724</td>\n      <td>73.891525</td>\n      <td>0.812719</td>\n      <td>170.66028</td>\n      <td>73.247660</td>\n      <td>0.785594</td>\n      <td>166.76718</td>\n      <td>...</td>\n      <td>174.53969</td>\n      <td>170.00818</td>\n      <td>0.542894</td>\n      <td>171.96147</td>\n      <td>169.33696</td>\n      <td>0.546907</td>\n      <td>179.12080</td>\n      <td>168.69398</td>\n      <td>0.684557</td>\n      <td>0.0</td>\n    </tr>\n  </tbody>\n</table>\n<p>5 rows × 76 columns</p>\n</div>"
     },
     "metadata": {},
     "execution_count": 166
    }
   ],
   "source": [
    "df_train.head()"
   ]
  },
  {
   "cell_type": "code",
   "execution_count": 167,
   "metadata": {},
   "outputs": [
    {
     "output_type": "execute_result",
     "data": {
      "text/plain": "x_0         0\ny_0         0\nscore_0     0\nx_1         0\ny_1         0\nscore_1     0\nx_2         0\ny_2         0\nscore_2     0\nx_3         0\ny_3         0\nscore_3     0\nx_4         0\ny_4         0\nscore_4     0\nx_5         0\ny_5         0\nscore_5     0\nx_6         0\ny_6         0\nscore_6     0\nx_7         0\ny_7         0\nscore_7     0\nx_8         0\ny_8         0\nscore_8     0\nx_9         0\ny_9         0\nscore_9     0\nx_10        0\ny_10        0\nscore_10    0\nx_11        0\ny_11        0\nscore_11    0\nx_12        0\ny_12        0\nscore_12    0\nx_13        0\ny_13        0\nscore_13    0\nx_14        0\ny_14        0\nscore_14    0\nx_15        0\ny_15        0\nscore_15    0\nx_16        0\ny_16        0\nscore_16    0\nx_17        0\ny_17        0\nscore_17    0\nx_18        0\ny_18        0\nscore_18    0\nx_19        0\ny_19        0\nscore_19    0\nx_20        0\ny_20        0\nscore_20    0\nx_21        0\ny_21        0\nscore_21    0\nx_22        0\ny_22        0\nscore_22    0\nx_23        0\ny_23        0\nscore_23    0\nx_24        0\ny_24        0\nscore_24    0\nangle       0\ndtype: int64"
     },
     "metadata": {},
     "execution_count": 167
    }
   ],
   "source": [
    "pd.set_option('display.max_rows', 500)\n",
    "df_train[(df_train['x_17'] == 0) & (df_train['x_18'] == 0) & (df_train['x_0'] == 0)].count()"
   ]
  },
  {
   "cell_type": "code",
   "execution_count": 168,
   "metadata": {},
   "outputs": [
    {
     "output_type": "execute_result",
     "data": {
      "text/plain": "x_0         335\ny_0         335\nscore_0     335\nx_1           0\ny_1           0\nscore_1       0\nx_2           0\ny_2           0\nscore_2       0\nx_3          70\ny_3          70\nscore_3      70\nx_4         102\ny_4         102\nscore_4     102\nx_5           0\ny_5           0\nscore_5       0\nx_6          50\ny_6          50\nscore_6      50\nx_7         179\ny_7         179\nscore_7     179\nx_8           0\ny_8           0\nscore_8       0\nx_9           1\ny_9           1\nscore_9       1\nx_10          1\ny_10          1\nscore_10      1\nx_11          1\ny_11          1\nscore_11      1\nx_12          0\ny_12          0\nscore_12      0\nx_13          0\ny_13          0\nscore_13      0\nx_14          0\ny_14          0\nscore_14      0\nx_15        398\ny_15        398\nscore_15    398\nx_16        690\ny_16        690\nscore_16    690\nx_17        442\ny_17        442\nscore_17    442\nx_18        214\ny_18        214\nscore_18    214\nx_19          7\ny_19          7\nscore_19      7\nx_20         29\ny_20         29\nscore_20     29\nx_21          1\ny_21          1\nscore_21      1\nx_22         12\ny_22         12\nscore_22     12\nx_23         32\ny_23         32\nscore_23     32\nx_24          2\ny_24          2\nscore_24      2\nangle       106\ndtype: int64"
     },
     "metadata": {},
     "execution_count": 168
    }
   ],
   "source": [
    "df_train[df_train==0.0].count()"
   ]
  },
  {
   "cell_type": "code",
   "execution_count": 169,
   "metadata": {},
   "outputs": [],
   "source": [
    "angle = df_train.pop(\"angle\")\n",
    "df_tmp = df_train.replace(0.0,np.nan)\n",
    "df_tmp[\"angle\"] = angle"
   ]
  },
  {
   "cell_type": "code",
   "execution_count": 170,
   "metadata": {},
   "outputs": [
    {
     "output_type": "execute_result",
     "data": {
      "text/plain": "x_0         335\ny_0         335\nscore_0     335\nx_1           0\ny_1           0\nscore_1       0\nx_2           0\ny_2           0\nscore_2       0\nx_3          70\ny_3          70\nscore_3      70\nx_4         102\ny_4         102\nscore_4     102\nx_5           0\ny_5           0\nscore_5       0\nx_6          50\ny_6          50\nscore_6      50\nx_7         179\ny_7         179\nscore_7     179\nx_8           0\ny_8           0\nscore_8       0\nx_9           1\ny_9           1\nscore_9       1\nx_10          1\ny_10          1\nscore_10      1\nx_11          1\ny_11          1\nscore_11      1\nx_12          0\ny_12          0\nscore_12      0\nx_13          0\ny_13          0\nscore_13      0\nx_14          0\ny_14          0\nscore_14      0\nx_15        398\ny_15        398\nscore_15    398\nx_16        690\ny_16        690\nscore_16    690\nx_17        442\ny_17        442\nscore_17    442\nx_18        214\ny_18        214\nscore_18    214\nx_19          7\ny_19          7\nscore_19      7\nx_20         29\ny_20         29\nscore_20     29\nx_21          1\ny_21          1\nscore_21      1\nx_22         12\ny_22         12\nscore_22     12\nx_23         32\ny_23         32\nscore_23     32\nx_24          2\ny_24          2\nscore_24      2\nangle         0\ndtype: int64"
     },
     "metadata": {},
     "execution_count": 170
    }
   ],
   "source": [
    "df_tmp.isnull().sum()"
   ]
  },
  {
   "cell_type": "code",
   "execution_count": 171,
   "metadata": {},
   "outputs": [],
   "source": [
    "df = df_tmp.copy()\n",
    "class_ = df[[\"angle\"]]\n",
    "class_names = df.groupby(\"angle\").groups.keys()\n",
    "for name in class_names:\n",
    "     df_tmp = df[(df['angle'] == name)].drop(columns=['angle'])\n",
    "     df_tmp = df_tmp.fillna(method=\"ffill\", limit=3)\n",
    "     df_tmp[\"angle\"] = class_\n",
    "     df[(df['angle'] == name)] =  df_tmp"
   ]
  },
  {
   "cell_type": "code",
   "execution_count": 172,
   "metadata": {},
   "outputs": [
    {
     "output_type": "execute_result",
     "data": {
      "text/plain": "x_0         326\ny_0         326\nscore_0     326\nx_1           0\ny_1           0\nscore_1       0\nx_2           0\ny_2           0\nscore_2       0\nx_3          37\ny_3          37\nscore_3      37\nx_4          55\ny_4          55\nscore_4      55\nx_5           0\ny_5           0\nscore_5       0\nx_6          16\ny_6          16\nscore_6      16\nx_7          92\ny_7          92\nscore_7      92\nx_8           0\ny_8           0\nscore_8       0\nx_9           0\ny_9           0\nscore_9       0\nx_10          0\ny_10          0\nscore_10      0\nx_11          0\ny_11          0\nscore_11      0\nx_12          0\ny_12          0\nscore_12      0\nx_13          0\ny_13          0\nscore_13      0\nx_14          0\ny_14          0\nscore_14      0\nx_15        347\ny_15        347\nscore_15    347\nx_16        690\ny_16        690\nscore_16    690\nx_17        409\ny_17        409\nscore_17    409\nx_18        192\ny_18        192\nscore_18    192\nx_19          0\ny_19          0\nscore_19      0\nx_20          1\ny_20          1\nscore_20      1\nx_21          0\ny_21          0\nscore_21      0\nx_22          0\ny_22          0\nscore_22      0\nx_23          0\ny_23          0\nscore_23      0\nx_24          0\ny_24          0\nscore_24      0\nangle         0\ndtype: int64"
     },
     "metadata": {},
     "execution_count": 172
    }
   ],
   "source": [
    "df.isnull().sum()"
   ]
  },
  {
   "cell_type": "code",
   "execution_count": 173,
   "metadata": {},
   "outputs": [],
   "source": [
    "# df= df.fillna(0)"
   ]
  },
  {
   "cell_type": "code",
   "execution_count": 174,
   "metadata": {},
   "outputs": [],
   "source": [
    "df.to_csv(\"./input/pose_angle_test_ffill.csv\",index=False)"
   ]
  },
  {
   "cell_type": "code",
   "execution_count": 175,
   "metadata": {},
   "outputs": [
    {
     "output_type": "execute_result",
     "data": {
      "text/plain": "x_0           0\ny_0           0\nscore_0       0\nx_1           0\ny_1           0\nscore_1       0\nx_2           0\ny_2           0\nscore_2       0\nx_3           0\ny_3           0\nscore_3       0\nx_4           0\ny_4           0\nscore_4       0\nx_5           0\ny_5           0\nscore_5       0\nx_6           0\ny_6           0\nscore_6       0\nx_7           0\ny_7           0\nscore_7       0\nx_8           0\ny_8           0\nscore_8       0\nx_9           0\ny_9           0\nscore_9       0\nx_10          0\ny_10          0\nscore_10      0\nx_11          0\ny_11          0\nscore_11      0\nx_12          0\ny_12          0\nscore_12      0\nx_13          0\ny_13          0\nscore_13      0\nx_14          0\ny_14          0\nscore_14      0\nx_15          0\ny_15          0\nscore_15      0\nx_16          0\ny_16          0\nscore_16      0\nx_17          0\ny_17          0\nscore_17      0\nx_18          0\ny_18          0\nscore_18      0\nx_19          0\ny_19          0\nscore_19      0\nx_20          0\ny_20          0\nscore_20      0\nx_21          0\ny_21          0\nscore_21      0\nx_22          0\ny_22          0\nscore_22      0\nx_23          0\ny_23          0\nscore_23      0\nx_24          0\ny_24          0\nscore_24      0\nangle       106\ndtype: int64"
     },
     "metadata": {},
     "execution_count": 175
    }
   ],
   "source": [
    "df[df==0.0].count()"
   ]
  },
  {
   "cell_type": "code",
   "execution_count": null,
   "metadata": {},
   "outputs": [],
   "source": []
  }
 ],
 "metadata": {
  "language_info": {
   "codemirror_mode": {
    "name": "ipython",
    "version": 3
   },
   "file_extension": ".py",
   "mimetype": "text/x-python",
   "name": "python",
   "nbconvert_exporter": "python",
   "pygments_lexer": "ipython3",
   "version": "3.6.10-final"
  },
  "orig_nbformat": 2,
  "kernelspec": {
   "name": "python361064bitgdconda8ea602af48104810b0586f27ffeee052",
   "display_name": "Python 3.6.10 64-bit ('gd': conda)"
  }
 },
 "nbformat": 4,
 "nbformat_minor": 2
}