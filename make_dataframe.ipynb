{
 "cells": [
  {
   "cell_type": "code",
   "execution_count": 176,
   "metadata": {},
   "outputs": [],
   "source": [
    "import sys\n",
    "import cv2\n",
    "import os\n",
    "from sys import platform\n",
    "import argparse\n",
    "import pickle\n",
    "import numpy as np\n",
    "import pandas as pd"
   ]
  },
  {
   "cell_type": "code",
   "execution_count": 177,
   "metadata": {},
   "outputs": [],
   "source": [
    "with open('poses_tread.pickle', 'rb') as f:\n",
    "  outdata = pickle.load(f)"
   ]
  },
  {
   "cell_type": "code",
   "execution_count": 178,
   "metadata": {},
   "outputs": [
    {
     "output_type": "execute_result",
     "data": {
      "text/plain": "8"
     },
     "metadata": {},
     "execution_count": 178
    }
   ],
   "source": [
    "len(outdata)"
   ]
  },
  {
   "cell_type": "code",
   "execution_count": 179,
   "metadata": {
    "tags": [
     "outputPrepend"
    ]
   },
   "outputs": [
    {
     "output_type": "execute_result",
     "data": {
      "text/plain": "list"
     },
     "metadata": {},
     "execution_count": 179
    }
   ],
   "source": [
    "type(outdata)"
   ]
  },
  {
   "cell_type": "code",
   "execution_count": 180,
   "metadata": {},
   "outputs": [
    {
     "output_type": "execute_result",
     "data": {
      "text/plain": "Empty DataFrame\nColumns: [x_0, y_0, score_0, x_1, y_1, score_1, x_2, y_2, score_2, x_3, y_3, score_3, x_4, y_4, score_4, x_5, y_5, score_5, x_6, y_6, score_6, x_7, y_7, score_7, x_8, y_8, score_8, x_9, y_9, score_9, x_10, y_10, score_10, x_11, y_11, score_11, x_12, y_12, score_12, x_13, y_13, score_13, x_14, y_14, score_14, x_15, y_15, score_15, x_16, y_16, score_16, x_17, y_17, score_17, x_18, y_18, score_18, x_19, y_19, score_19, x_20, y_20, score_20, x_21, y_21, score_21, x_22, y_22, score_22, x_23, y_23, score_23, x_24, y_24, score_24]\nIndex: []\n\n[0 rows x 75 columns]",
      "text/html": "<div>\n<style scoped>\n    .dataframe tbody tr th:only-of-type {\n        vertical-align: middle;\n    }\n\n    .dataframe tbody tr th {\n        vertical-align: top;\n    }\n\n    .dataframe thead th {\n        text-align: right;\n    }\n</style>\n<table border=\"1\" class=\"dataframe\">\n  <thead>\n    <tr style=\"text-align: right;\">\n      <th></th>\n      <th>x_0</th>\n      <th>y_0</th>\n      <th>score_0</th>\n      <th>x_1</th>\n      <th>y_1</th>\n      <th>score_1</th>\n      <th>x_2</th>\n      <th>y_2</th>\n      <th>score_2</th>\n      <th>x_3</th>\n      <th>...</th>\n      <th>score_21</th>\n      <th>x_22</th>\n      <th>y_22</th>\n      <th>score_22</th>\n      <th>x_23</th>\n      <th>y_23</th>\n      <th>score_23</th>\n      <th>x_24</th>\n      <th>y_24</th>\n      <th>score_24</th>\n    </tr>\n  </thead>\n  <tbody>\n  </tbody>\n</table>\n<p>0 rows × 75 columns</p>\n</div>"
     },
     "metadata": {},
     "execution_count": 180
    }
   ],
   "source": [
    "angle_seq = (0, 30, 60, 90, -90, -120, -150, -180)\n",
    "columns = []\n",
    "for i in range(25):\n",
    "    columns.append(f\"x_{i}\")\n",
    "    columns.append(f\"y_{i}\")\n",
    "    columns.append(f\"score_{i}\")\n",
    "df = pd.DataFrame(index=[], columns=columns)\n",
    "df"
   ]
  },
  {
   "cell_type": "code",
   "execution_count": 181,
   "metadata": {
    "tags": [
     "outputPrepend"
    ]
   },
   "outputs": [],
   "source": [
    "for i, angle in enumerate(outdata):\n",
    "    for j ,points in  enumerate(angle):\n",
    "        tmp = np.squeeze(points)\n",
    "        tmp = tmp.flatten()\n",
    "        tmp = pd.DataFrame(tmp,index=columns).T\n",
    "        tmp = tmp.reset_index(drop=True)\n",
    "        tmp[\"angle\"] = angle_seq[i]\n",
    "        df = df.append(tmp).reset_index(drop=True)\n"
   ]
  },
  {
   "cell_type": "code",
   "execution_count": 182,
   "metadata": {},
   "outputs": [
    {
     "output_type": "execute_result",
     "data": {
      "text/plain": "          x_0        y_0   score_0         x_1        y_1   score_1  \\\n0  182.353302  60.269341  0.871724  183.639481  73.891975  0.833996   \n1  182.342804  60.281353  0.870348  183.620255  74.532700  0.837600   \n2  181.690430  60.893658  0.866105  182.352280  75.151115  0.834443   \n3  181.045670  60.898701  0.873584  182.337708  75.151291  0.837025   \n4  180.406891  60.273495  0.906316  181.706726  75.158745  0.844850   \n5  180.407379  60.263298  0.907536  181.690689  75.150734  0.837353   \n6  180.390945  60.264008  0.911967  181.062180  75.155334  0.838591   \n7  179.768158  60.254715  0.927878  180.393890  73.898659  0.847682   \n8  179.765305  60.258244  0.939276  180.399200  74.525391  0.850736   \n9  179.770004  60.267479  0.938724  180.409073  74.522255  0.851064   \n\n          x_2        y_2   score_2         x_3  ...        x_22        y_22  \\\n0  173.237579  73.896599  0.790739  168.683701  ...  179.095459  169.357529   \n1  172.607056  75.151443  0.803291  168.688492  ...  179.760101  169.332993   \n2  171.946198  75.164474  0.794193  167.411163  ...  180.410202  169.351212   \n3  171.302338  75.154556  0.791414  166.753464  ...  179.771698  169.362854   \n4  170.652420  75.151695  0.796279  166.755402  ...  180.392227  169.369308   \n5  170.029037  74.546577  0.798836  166.763000  ...  179.088303  169.370255   \n6  170.016861  75.159996  0.808154  167.400085  ...  178.428802  169.378387   \n7  169.382294  73.896027  0.806415  165.456345  ...  177.810104  169.338852   \n8  169.996628  74.529175  0.809395  166.103104  ...  175.849121  169.352982   \n9  170.007126  74.533249  0.823045  166.117508  ...  175.200958  169.383575   \n\n   score_22        x_23        y_23  score_23        x_24        y_24  \\\n0  0.471520  174.540817  168.729965  0.458224  177.140808  168.052383   \n1  0.507446  175.202393  168.720779  0.481383  177.148117  167.414505   \n2  0.599240  176.496094  169.351074  0.563478  176.504333  168.043457   \n3  0.602678  175.844131  169.354782  0.570401  176.507233  168.060898   \n4  0.609227  175.863342  169.368134  0.577274  177.796112  168.068115   \n5  0.624835  174.568512  169.342728  0.608248  178.435913  168.058563   \n6  0.561727  174.529953  169.340088  0.570129  178.457062  168.684448   \n7  0.561509  174.529922  168.708282  0.551894  179.083832  168.039062   \n8  0.531282  173.876633  168.706833  0.524592  179.098907  168.042328   \n9  0.516036  172.610474  168.729538  0.525205  179.108246  168.680267   \n\n   score_24  angle  \n0  0.542639    0.0  \n1  0.556000    0.0  \n2  0.594209    0.0  \n3  0.612454    0.0  \n4  0.625153    0.0  \n5  0.623166    0.0  \n6  0.636845    0.0  \n7  0.606018    0.0  \n8  0.621106    0.0  \n9  0.694225    0.0  \n\n[10 rows x 76 columns]",
      "text/html": "<div>\n<style scoped>\n    .dataframe tbody tr th:only-of-type {\n        vertical-align: middle;\n    }\n\n    .dataframe tbody tr th {\n        vertical-align: top;\n    }\n\n    .dataframe thead th {\n        text-align: right;\n    }\n</style>\n<table border=\"1\" class=\"dataframe\">\n  <thead>\n    <tr style=\"text-align: right;\">\n      <th></th>\n      <th>x_0</th>\n      <th>y_0</th>\n      <th>score_0</th>\n      <th>x_1</th>\n      <th>y_1</th>\n      <th>score_1</th>\n      <th>x_2</th>\n      <th>y_2</th>\n      <th>score_2</th>\n      <th>x_3</th>\n      <th>...</th>\n      <th>x_22</th>\n      <th>y_22</th>\n      <th>score_22</th>\n      <th>x_23</th>\n      <th>y_23</th>\n      <th>score_23</th>\n      <th>x_24</th>\n      <th>y_24</th>\n      <th>score_24</th>\n      <th>angle</th>\n    </tr>\n  </thead>\n  <tbody>\n    <tr>\n      <th>0</th>\n      <td>182.353302</td>\n      <td>60.269341</td>\n      <td>0.871724</td>\n      <td>183.639481</td>\n      <td>73.891975</td>\n      <td>0.833996</td>\n      <td>173.237579</td>\n      <td>73.896599</td>\n      <td>0.790739</td>\n      <td>168.683701</td>\n      <td>...</td>\n      <td>179.095459</td>\n      <td>169.357529</td>\n      <td>0.471520</td>\n      <td>174.540817</td>\n      <td>168.729965</td>\n      <td>0.458224</td>\n      <td>177.140808</td>\n      <td>168.052383</td>\n      <td>0.542639</td>\n      <td>0.0</td>\n    </tr>\n    <tr>\n      <th>1</th>\n      <td>182.342804</td>\n      <td>60.281353</td>\n      <td>0.870348</td>\n      <td>183.620255</td>\n      <td>74.532700</td>\n      <td>0.837600</td>\n      <td>172.607056</td>\n      <td>75.151443</td>\n      <td>0.803291</td>\n      <td>168.688492</td>\n      <td>...</td>\n      <td>179.760101</td>\n      <td>169.332993</td>\n      <td>0.507446</td>\n      <td>175.202393</td>\n      <td>168.720779</td>\n      <td>0.481383</td>\n      <td>177.148117</td>\n      <td>167.414505</td>\n      <td>0.556000</td>\n      <td>0.0</td>\n    </tr>\n    <tr>\n      <th>2</th>\n      <td>181.690430</td>\n      <td>60.893658</td>\n      <td>0.866105</td>\n      <td>182.352280</td>\n      <td>75.151115</td>\n      <td>0.834443</td>\n      <td>171.946198</td>\n      <td>75.164474</td>\n      <td>0.794193</td>\n      <td>167.411163</td>\n      <td>...</td>\n      <td>180.410202</td>\n      <td>169.351212</td>\n      <td>0.599240</td>\n      <td>176.496094</td>\n      <td>169.351074</td>\n      <td>0.563478</td>\n      <td>176.504333</td>\n      <td>168.043457</td>\n      <td>0.594209</td>\n      <td>0.0</td>\n    </tr>\n    <tr>\n      <th>3</th>\n      <td>181.045670</td>\n      <td>60.898701</td>\n      <td>0.873584</td>\n      <td>182.337708</td>\n      <td>75.151291</td>\n      <td>0.837025</td>\n      <td>171.302338</td>\n      <td>75.154556</td>\n      <td>0.791414</td>\n      <td>166.753464</td>\n      <td>...</td>\n      <td>179.771698</td>\n      <td>169.362854</td>\n      <td>0.602678</td>\n      <td>175.844131</td>\n      <td>169.354782</td>\n      <td>0.570401</td>\n      <td>176.507233</td>\n      <td>168.060898</td>\n      <td>0.612454</td>\n      <td>0.0</td>\n    </tr>\n    <tr>\n      <th>4</th>\n      <td>180.406891</td>\n      <td>60.273495</td>\n      <td>0.906316</td>\n      <td>181.706726</td>\n      <td>75.158745</td>\n      <td>0.844850</td>\n      <td>170.652420</td>\n      <td>75.151695</td>\n      <td>0.796279</td>\n      <td>166.755402</td>\n      <td>...</td>\n      <td>180.392227</td>\n      <td>169.369308</td>\n      <td>0.609227</td>\n      <td>175.863342</td>\n      <td>169.368134</td>\n      <td>0.577274</td>\n      <td>177.796112</td>\n      <td>168.068115</td>\n      <td>0.625153</td>\n      <td>0.0</td>\n    </tr>\n    <tr>\n      <th>5</th>\n      <td>180.407379</td>\n      <td>60.263298</td>\n      <td>0.907536</td>\n      <td>181.690689</td>\n      <td>75.150734</td>\n      <td>0.837353</td>\n      <td>170.029037</td>\n      <td>74.546577</td>\n      <td>0.798836</td>\n      <td>166.763000</td>\n      <td>...</td>\n      <td>179.088303</td>\n      <td>169.370255</td>\n      <td>0.624835</td>\n      <td>174.568512</td>\n      <td>169.342728</td>\n      <td>0.608248</td>\n      <td>178.435913</td>\n      <td>168.058563</td>\n      <td>0.623166</td>\n      <td>0.0</td>\n    </tr>\n    <tr>\n      <th>6</th>\n      <td>180.390945</td>\n      <td>60.264008</td>\n      <td>0.911967</td>\n      <td>181.062180</td>\n      <td>75.155334</td>\n      <td>0.838591</td>\n      <td>170.016861</td>\n      <td>75.159996</td>\n      <td>0.808154</td>\n      <td>167.400085</td>\n      <td>...</td>\n      <td>178.428802</td>\n      <td>169.378387</td>\n      <td>0.561727</td>\n      <td>174.529953</td>\n      <td>169.340088</td>\n      <td>0.570129</td>\n      <td>178.457062</td>\n      <td>168.684448</td>\n      <td>0.636845</td>\n      <td>0.0</td>\n    </tr>\n    <tr>\n      <th>7</th>\n      <td>179.768158</td>\n      <td>60.254715</td>\n      <td>0.927878</td>\n      <td>180.393890</td>\n      <td>73.898659</td>\n      <td>0.847682</td>\n      <td>169.382294</td>\n      <td>73.896027</td>\n      <td>0.806415</td>\n      <td>165.456345</td>\n      <td>...</td>\n      <td>177.810104</td>\n      <td>169.338852</td>\n      <td>0.561509</td>\n      <td>174.529922</td>\n      <td>168.708282</td>\n      <td>0.551894</td>\n      <td>179.083832</td>\n      <td>168.039062</td>\n      <td>0.606018</td>\n      <td>0.0</td>\n    </tr>\n    <tr>\n      <th>8</th>\n      <td>179.765305</td>\n      <td>60.258244</td>\n      <td>0.939276</td>\n      <td>180.399200</td>\n      <td>74.525391</td>\n      <td>0.850736</td>\n      <td>169.996628</td>\n      <td>74.529175</td>\n      <td>0.809395</td>\n      <td>166.103104</td>\n      <td>...</td>\n      <td>175.849121</td>\n      <td>169.352982</td>\n      <td>0.531282</td>\n      <td>173.876633</td>\n      <td>168.706833</td>\n      <td>0.524592</td>\n      <td>179.098907</td>\n      <td>168.042328</td>\n      <td>0.621106</td>\n      <td>0.0</td>\n    </tr>\n    <tr>\n      <th>9</th>\n      <td>179.770004</td>\n      <td>60.267479</td>\n      <td>0.938724</td>\n      <td>180.409073</td>\n      <td>74.522255</td>\n      <td>0.851064</td>\n      <td>170.007126</td>\n      <td>74.533249</td>\n      <td>0.823045</td>\n      <td>166.117508</td>\n      <td>...</td>\n      <td>175.200958</td>\n      <td>169.383575</td>\n      <td>0.516036</td>\n      <td>172.610474</td>\n      <td>168.729538</td>\n      <td>0.525205</td>\n      <td>179.108246</td>\n      <td>168.680267</td>\n      <td>0.694225</td>\n      <td>0.0</td>\n    </tr>\n  </tbody>\n</table>\n<p>10 rows × 76 columns</p>\n</div>"
     },
     "metadata": {},
     "execution_count": 182
    }
   ],
   "source": [
    "df.head(10)"
   ]
  },
  {
   "cell_type": "code",
   "execution_count": 183,
   "metadata": {},
   "outputs": [],
   "source": [
    "df.to_csv(\"./pose_angle_train.csv\",index=False)"
   ]
  },
  {
   "cell_type": "code",
   "execution_count": null,
   "metadata": {},
   "outputs": [],
   "source": []
  }
 ],
 "metadata": {
  "language_info": {
   "codemirror_mode": {
    "name": "ipython",
    "version": 3
   },
   "file_extension": ".py",
   "mimetype": "text/x-python",
   "name": "python",
   "nbconvert_exporter": "python",
   "pygments_lexer": "ipython3",
   "version": "3.6.10-final"
  },
  "orig_nbformat": 2,
  "kernelspec": {
   "name": "python361064bitgdconda8ea602af48104810b0586f27ffeee052",
   "display_name": "Python 3.6.10 64-bit ('gd': conda)"
  }
 },
 "nbformat": 4,
 "nbformat_minor": 2
}