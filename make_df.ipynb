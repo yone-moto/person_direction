{
 "cells": [
  {
   "cell_type": "code",
   "execution_count": 1,
   "metadata": {},
   "outputs": [],
   "source": [
    "import sys\n",
    "import cv2\n",
    "import os\n",
    "from sys import platform\n",
    "import argparse\n",
    "import pickle\n",
    "import numpy as np\n",
    "import pandas as pd"
   ]
  },
  {
   "cell_type": "code",
   "execution_count": 2,
   "metadata": {},
   "outputs": [],
   "source": [
    "with open('poses_tread.pickle', 'rb') as f:\n",
    "  outdata = pickle.load(f)"
   ]
  },
  {
   "cell_type": "code",
   "execution_count": 5,
   "metadata": {},
   "outputs": [
    {
     "output_type": "execute_result",
     "data": {
      "text/plain": "Empty DataFrame\nColumns: [x_0, y_0, score_0, x_1, y_1, score_1, x_2, y_2, score_2, x_3, y_3, score_3, x_4, y_4, score_4, x_5, y_5, score_5, x_6, y_6, score_6, x_7, y_7, score_7, x_8, y_8, score_8, x_9, y_9, score_9, x_10, y_10, score_10, x_11, y_11, score_11, x_12, y_12, score_12, x_13, y_13, score_13, x_14, y_14, score_14, x_15, y_15, score_15, x_16, y_16, score_16, x_17, y_17, score_17, x_18, y_18, score_18, x_19, y_19, score_19, x_20, y_20, score_20, x_21, y_21, score_21, x_22, y_22, score_22, x_23, y_23, score_23, x_24, y_24, score_24]\nIndex: []\n\n[0 rows x 75 columns]",
      "text/html": "<div>\n<style scoped>\n    .dataframe tbody tr th:only-of-type {\n        vertical-align: middle;\n    }\n\n    .dataframe tbody tr th {\n        vertical-align: top;\n    }\n\n    .dataframe thead th {\n        text-align: right;\n    }\n</style>\n<table border=\"1\" class=\"dataframe\">\n  <thead>\n    <tr style=\"text-align: right;\">\n      <th></th>\n      <th>x_0</th>\n      <th>y_0</th>\n      <th>score_0</th>\n      <th>x_1</th>\n      <th>y_1</th>\n      <th>score_1</th>\n      <th>x_2</th>\n      <th>y_2</th>\n      <th>score_2</th>\n      <th>x_3</th>\n      <th>...</th>\n      <th>score_21</th>\n      <th>x_22</th>\n      <th>y_22</th>\n      <th>score_22</th>\n      <th>x_23</th>\n      <th>y_23</th>\n      <th>score_23</th>\n      <th>x_24</th>\n      <th>y_24</th>\n      <th>score_24</th>\n    </tr>\n  </thead>\n  <tbody>\n  </tbody>\n</table>\n<p>0 rows × 75 columns</p>\n</div>"
     },
     "metadata": {},
     "execution_count": 5
    }
   ],
   "source": [
    "angle_seq = (0, 30, 60, 90, -90, -120, -150, -180)\n",
    "columns = []\n",
    "for i in range(25):\n",
    "    columns.append(f\"x_{i}\")\n",
    "    columns.append(f\"y_{i}\")\n",
    "    columns.append(f\"score_{i}\")\n",
    "df = pd.DataFrame(index=[], columns=columns)\n",
    "df"
   ]
  },
  {
   "cell_type": "code",
   "execution_count": 6,
   "metadata": {
    "tags": [
     "outputPrepend"
    ]
   },
   "outputs": [],
   "source": [
    "for i, angle in enumerate(outdata):\n",
    "    for j ,points in  enumerate(angle):\n",
    "        tmp = np.squeeze(points)\n",
    "        tmp = tmp.flatten()\n",
    "        tmp = pd.DataFrame(tmp,index=columns).T\n",
    "        tmp = tmp.reset_index(drop=True)\n",
    "        tmp[\"angle\"] = angle_seq[i]\n",
    "        df = df.append(tmp).reset_index(drop=True)\n"
   ]
  },
  {
   "cell_type": "code",
   "execution_count": 7,
   "metadata": {},
   "outputs": [
    {
     "output_type": "execute_result",
     "data": {
      "text/plain": "          x_0        y_0   score_0         x_1        y_1   score_1  \\\n0  179.765305  60.258244  0.939276  180.399200  74.525391  0.850736   \n1  179.770004  60.267479  0.938724  180.409073  74.522255  0.851064   \n2  179.782806  60.261524  0.928379  180.402283  74.516792  0.843911   \n3  180.407288  60.253990  0.913265  180.390533  73.890388  0.852116   \n4  181.043533  60.265160  0.893009  181.687241  73.891525  0.812719   \n5  182.352676  60.260765  0.886762  181.711166  73.872414  0.796525   \n6  183.007446  60.243122  0.900615  182.981415  74.528130  0.814823   \n7  184.262909  60.270458  0.913929  183.630402  74.539520  0.833832   \n8  184.301956  60.910088  0.921918  183.643661  75.150688  0.863721   \n9  184.947647  61.539082  0.906110  184.292618  75.165985  0.910122   \n\n          x_2        y_2   score_2         x_3  ...        x_22        y_22  \\\n0  169.996628  74.529175  0.809395  166.103104  ...  175.849121  169.352982   \n1  170.007126  74.533249  0.823045  166.117508  ...  175.200958  169.383575   \n2  169.998398  74.530777  0.818879  165.474045  ...  175.856003  169.389221   \n3  169.374039  73.899300  0.814654  164.813675  ...  176.495178  169.387680   \n4  170.660278  73.247658  0.785594  166.767181  ...  174.539688  170.008179   \n5  171.307785  73.228622  0.773108  166.768906  ...  174.565140  169.365677   \n6  171.945587  73.884613  0.764365  166.106842  ...  173.922089  170.000519   \n7  173.230408  73.893890  0.782113  168.043594  ...  173.889465  169.996674   \n8  173.246902  74.544930  0.828093  168.045563  ...  173.898483  170.668381   \n9  173.891190  75.153305  0.846450  168.060410  ...  173.894241  170.028854   \n\n   score_22        x_23        y_23  score_23        x_24        y_24  \\\n0  0.531282  173.876633  168.706833  0.524592  179.098907  168.042328   \n1  0.516036  172.610474  168.729538  0.525205  179.108246  168.680267   \n2  0.544642  173.248978  169.333298  0.566953  179.111847  168.675232   \n3  0.504813  173.251938  169.335953  0.529983  179.115753  168.675339   \n4  0.542894  171.961472  169.336960  0.546907  179.120804  168.693985   \n5  0.525948  173.233063  168.710602  0.519151  179.111771  168.050888   \n6  0.505714  171.960693  168.734406  0.500620  179.120392  168.677094   \n7  0.577521  171.299362  168.724792  0.575713  179.115326  168.070511   \n8  0.481159  171.945435  169.359741  0.502401  179.729080  168.686005   \n9  0.549299  171.942184  169.337631  0.563066  179.728180  168.686111   \n\n   score_24  angle  \n0  0.621106    0.0  \n1  0.694225    0.0  \n2  0.715459    0.0  \n3  0.694016    0.0  \n4  0.684557    0.0  \n5  0.648140    0.0  \n6  0.652970    0.0  \n7  0.657117    0.0  \n8  0.620383    0.0  \n9  0.652289    0.0  \n\n[10 rows x 76 columns]",
      "text/html": "<div>\n<style scoped>\n    .dataframe tbody tr th:only-of-type {\n        vertical-align: middle;\n    }\n\n    .dataframe tbody tr th {\n        vertical-align: top;\n    }\n\n    .dataframe thead th {\n        text-align: right;\n    }\n</style>\n<table border=\"1\" class=\"dataframe\">\n  <thead>\n    <tr style=\"text-align: right;\">\n      <th></th>\n      <th>x_0</th>\n      <th>y_0</th>\n      <th>score_0</th>\n      <th>x_1</th>\n      <th>y_1</th>\n      <th>score_1</th>\n      <th>x_2</th>\n      <th>y_2</th>\n      <th>score_2</th>\n      <th>x_3</th>\n      <th>...</th>\n      <th>x_22</th>\n      <th>y_22</th>\n      <th>score_22</th>\n      <th>x_23</th>\n      <th>y_23</th>\n      <th>score_23</th>\n      <th>x_24</th>\n      <th>y_24</th>\n      <th>score_24</th>\n      <th>angle</th>\n    </tr>\n  </thead>\n  <tbody>\n    <tr>\n      <th>0</th>\n      <td>179.765305</td>\n      <td>60.258244</td>\n      <td>0.939276</td>\n      <td>180.399200</td>\n      <td>74.525391</td>\n      <td>0.850736</td>\n      <td>169.996628</td>\n      <td>74.529175</td>\n      <td>0.809395</td>\n      <td>166.103104</td>\n      <td>...</td>\n      <td>175.849121</td>\n      <td>169.352982</td>\n      <td>0.531282</td>\n      <td>173.876633</td>\n      <td>168.706833</td>\n      <td>0.524592</td>\n      <td>179.098907</td>\n      <td>168.042328</td>\n      <td>0.621106</td>\n      <td>0.0</td>\n    </tr>\n    <tr>\n      <th>1</th>\n      <td>179.770004</td>\n      <td>60.267479</td>\n      <td>0.938724</td>\n      <td>180.409073</td>\n      <td>74.522255</td>\n      <td>0.851064</td>\n      <td>170.007126</td>\n      <td>74.533249</td>\n      <td>0.823045</td>\n      <td>166.117508</td>\n      <td>...</td>\n      <td>175.200958</td>\n      <td>169.383575</td>\n      <td>0.516036</td>\n      <td>172.610474</td>\n      <td>168.729538</td>\n      <td>0.525205</td>\n      <td>179.108246</td>\n      <td>168.680267</td>\n      <td>0.694225</td>\n      <td>0.0</td>\n    </tr>\n    <tr>\n      <th>2</th>\n      <td>179.782806</td>\n      <td>60.261524</td>\n      <td>0.928379</td>\n      <td>180.402283</td>\n      <td>74.516792</td>\n      <td>0.843911</td>\n      <td>169.998398</td>\n      <td>74.530777</td>\n      <td>0.818879</td>\n      <td>165.474045</td>\n      <td>...</td>\n      <td>175.856003</td>\n      <td>169.389221</td>\n      <td>0.544642</td>\n      <td>173.248978</td>\n      <td>169.333298</td>\n      <td>0.566953</td>\n      <td>179.111847</td>\n      <td>168.675232</td>\n      <td>0.715459</td>\n      <td>0.0</td>\n    </tr>\n    <tr>\n      <th>3</th>\n      <td>180.407288</td>\n      <td>60.253990</td>\n      <td>0.913265</td>\n      <td>180.390533</td>\n      <td>73.890388</td>\n      <td>0.852116</td>\n      <td>169.374039</td>\n      <td>73.899300</td>\n      <td>0.814654</td>\n      <td>164.813675</td>\n      <td>...</td>\n      <td>176.495178</td>\n      <td>169.387680</td>\n      <td>0.504813</td>\n      <td>173.251938</td>\n      <td>169.335953</td>\n      <td>0.529983</td>\n      <td>179.115753</td>\n      <td>168.675339</td>\n      <td>0.694016</td>\n      <td>0.0</td>\n    </tr>\n    <tr>\n      <th>4</th>\n      <td>181.043533</td>\n      <td>60.265160</td>\n      <td>0.893009</td>\n      <td>181.687241</td>\n      <td>73.891525</td>\n      <td>0.812719</td>\n      <td>170.660278</td>\n      <td>73.247658</td>\n      <td>0.785594</td>\n      <td>166.767181</td>\n      <td>...</td>\n      <td>174.539688</td>\n      <td>170.008179</td>\n      <td>0.542894</td>\n      <td>171.961472</td>\n      <td>169.336960</td>\n      <td>0.546907</td>\n      <td>179.120804</td>\n      <td>168.693985</td>\n      <td>0.684557</td>\n      <td>0.0</td>\n    </tr>\n    <tr>\n      <th>5</th>\n      <td>182.352676</td>\n      <td>60.260765</td>\n      <td>0.886762</td>\n      <td>181.711166</td>\n      <td>73.872414</td>\n      <td>0.796525</td>\n      <td>171.307785</td>\n      <td>73.228622</td>\n      <td>0.773108</td>\n      <td>166.768906</td>\n      <td>...</td>\n      <td>174.565140</td>\n      <td>169.365677</td>\n      <td>0.525948</td>\n      <td>173.233063</td>\n      <td>168.710602</td>\n      <td>0.519151</td>\n      <td>179.111771</td>\n      <td>168.050888</td>\n      <td>0.648140</td>\n      <td>0.0</td>\n    </tr>\n    <tr>\n      <th>6</th>\n      <td>183.007446</td>\n      <td>60.243122</td>\n      <td>0.900615</td>\n      <td>182.981415</td>\n      <td>74.528130</td>\n      <td>0.814823</td>\n      <td>171.945587</td>\n      <td>73.884613</td>\n      <td>0.764365</td>\n      <td>166.106842</td>\n      <td>...</td>\n      <td>173.922089</td>\n      <td>170.000519</td>\n      <td>0.505714</td>\n      <td>171.960693</td>\n      <td>168.734406</td>\n      <td>0.500620</td>\n      <td>179.120392</td>\n      <td>168.677094</td>\n      <td>0.652970</td>\n      <td>0.0</td>\n    </tr>\n    <tr>\n      <th>7</th>\n      <td>184.262909</td>\n      <td>60.270458</td>\n      <td>0.913929</td>\n      <td>183.630402</td>\n      <td>74.539520</td>\n      <td>0.833832</td>\n      <td>173.230408</td>\n      <td>73.893890</td>\n      <td>0.782113</td>\n      <td>168.043594</td>\n      <td>...</td>\n      <td>173.889465</td>\n      <td>169.996674</td>\n      <td>0.577521</td>\n      <td>171.299362</td>\n      <td>168.724792</td>\n      <td>0.575713</td>\n      <td>179.115326</td>\n      <td>168.070511</td>\n      <td>0.657117</td>\n      <td>0.0</td>\n    </tr>\n    <tr>\n      <th>8</th>\n      <td>184.301956</td>\n      <td>60.910088</td>\n      <td>0.921918</td>\n      <td>183.643661</td>\n      <td>75.150688</td>\n      <td>0.863721</td>\n      <td>173.246902</td>\n      <td>74.544930</td>\n      <td>0.828093</td>\n      <td>168.045563</td>\n      <td>...</td>\n      <td>173.898483</td>\n      <td>170.668381</td>\n      <td>0.481159</td>\n      <td>171.945435</td>\n      <td>169.359741</td>\n      <td>0.502401</td>\n      <td>179.729080</td>\n      <td>168.686005</td>\n      <td>0.620383</td>\n      <td>0.0</td>\n    </tr>\n    <tr>\n      <th>9</th>\n      <td>184.947647</td>\n      <td>61.539082</td>\n      <td>0.906110</td>\n      <td>184.292618</td>\n      <td>75.165985</td>\n      <td>0.910122</td>\n      <td>173.891190</td>\n      <td>75.153305</td>\n      <td>0.846450</td>\n      <td>168.060410</td>\n      <td>...</td>\n      <td>173.894241</td>\n      <td>170.028854</td>\n      <td>0.549299</td>\n      <td>171.942184</td>\n      <td>169.337631</td>\n      <td>0.563066</td>\n      <td>179.728180</td>\n      <td>168.686111</td>\n      <td>0.652289</td>\n      <td>0.0</td>\n    </tr>\n  </tbody>\n</table>\n<p>10 rows × 76 columns</p>\n</div>"
     },
     "metadata": {},
     "execution_count": 7
    }
   ],
   "source": [
    "df.head(10)"
   ]
  },
  {
   "cell_type": "code",
   "execution_count": 8,
   "metadata": {},
   "outputs": [],
   "source": [
    "df.to_csv(\"./input/pose_angle_test.csv\",index=False)"
   ]
  },
  {
   "cell_type": "code",
   "execution_count": null,
   "metadata": {},
   "outputs": [],
   "source": []
  }
 ],
 "metadata": {
  "language_info": {
   "codemirror_mode": {
    "name": "ipython",
    "version": 3
   },
   "file_extension": ".py",
   "mimetype": "text/x-python",
   "name": "python",
   "nbconvert_exporter": "python",
   "pygments_lexer": "ipython3",
   "version": "3.6.10-final"
  },
  "orig_nbformat": 2,
  "kernelspec": {
   "name": "python361064bitgdconda8ea602af48104810b0586f27ffeee052",
   "display_name": "Python 3.6.10 64-bit ('gd': conda)"
  }
 },
 "nbformat": 4,
 "nbformat_minor": 2
}